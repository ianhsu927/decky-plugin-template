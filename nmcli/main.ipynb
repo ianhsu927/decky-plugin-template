{
 "cells": [
  {
   "cell_type": "code",
   "execution_count": 3,
   "metadata": {},
   "outputs": [
    {
     "name": "stdout",
     "output_type": "stream",
     "text": [
      "connection.id: ['lo']\n",
      "ipv4.addresses: ['127.0.0.1/8', ' 10.255.255.254/32']\n",
      "connection.id: ['docker0']\n",
      "ipv4.addresses: ['172.17.0.1/16']\n",
      "connection.id: ['eth0']\n",
      "ipv4.addresses: ['172.24.11.6/20']\n",
      "connection.id: ['有线连接 1']\n"
     ]
    }
   ],
   "source": [
    "import nmcli\n",
    "import re\n",
    "\n",
    "\n",
    "def remove_color_codes(s):\n",
    "    \"\"\"Remove ANSI color codes from a string.\"\"\"\n",
    "    ansi_escape = re.compile(r\"\\x1b\\[[0-9;]*m\")\n",
    "    return ansi_escape.sub(\"\", s)\n",
    "\n",
    "\n",
    "nmcli.disable_use_sudo()  # Disable sudo for nmcli, read-only operations don't require it\n",
    "\n",
    "keys = [\"connection.id\", \"ipv4.addresses\"]\n",
    "\n",
    "for connection in nmcli.connection():\n",
    "    name = remove_color_codes(connection.name)\n",
    "    con = nmcli.connection.show(name)\n",
    "    for key in keys:\n",
    "        value = con[key]\n",
    "        if value:\n",
    "            print(f\"{key}: {con[key].split(',')}\")\n",
    "        else:\n",
    "            print(f\"{key}: None\")"
   ]
  },
  {
   "cell_type": "code",
   "execution_count": 6,
   "metadata": {},
   "outputs": [
    {
     "data": {
      "text/plain": [
       "'utf-8'"
      ]
     },
     "execution_count": 6,
     "metadata": {},
     "output_type": "execute_result"
    }
   ],
   "source": [
    "import sys\n",
    "\n",
    "sys.getdefaultencoding()"
   ]
  }
 ],
 "metadata": {
  "kernelspec": {
   "display_name": "decky-plugin-template-l3KwfYx5-py3.12",
   "language": "python",
   "name": "python3"
  },
  "language_info": {
   "codemirror_mode": {
    "name": "ipython",
    "version": 3
   },
   "file_extension": ".py",
   "mimetype": "text/x-python",
   "name": "python",
   "nbconvert_exporter": "python",
   "pygments_lexer": "ipython3",
   "version": "3.12.4"
  }
 },
 "nbformat": 4,
 "nbformat_minor": 2
}
